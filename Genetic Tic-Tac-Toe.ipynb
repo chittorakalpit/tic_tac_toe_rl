{
 "cells": [
  {
   "cell_type": "code",
   "execution_count": 1,
   "metadata": {},
   "outputs": [],
   "source": [
    "import numpy as np\n",
    "import threading\n",
    "from copy import deepcopy\n",
    "from tqdm import tqdm_notebook as tqdm\n",
    "import tic_tac_toe as ttt"
   ]
  },
  {
   "cell_type": "code",
   "execution_count": 2,
   "metadata": {},
   "outputs": [],
   "source": [
    "reward = {\n",
    "    'win':75,\n",
    "    'lose':-100,\n",
    "    'next_move':-1,\n",
    "    'wrong_move':-50\n",
    "}\n",
    "\n",
    "MUTATE_PROB = 0.6\n",
    "ADD_LAYER_PROB = 0.01"
   ]
  },
  {
   "cell_type": "code",
   "execution_count": 3,
   "metadata": {},
   "outputs": [],
   "source": [
    "def board_to_state(board):\n",
    "    return np.concatenate((board.reshape(1,-1),(np.array(1)).reshape(1,1)), axis=1)\n",
    "\n",
    "def state_to_board(state):\n",
    "    return state.reshape(3,3)\n",
    "\n",
    "def next_move(board,pos,p):\n",
    "    return ttt.next_move(board,pos//3,pos%3,p)"
   ]
  },
  {
   "cell_type": "code",
   "execution_count": 4,
   "metadata": {},
   "outputs": [],
   "source": [
    "board = np.zeros((3,3))"
   ]
  },
  {
   "cell_type": "code",
   "execution_count": 5,
   "metadata": {},
   "outputs": [],
   "source": [
    "class cpu_player:\n",
    "    def __init__(self):\n",
    "        self.score = 0\n",
    "        self.w = [np.random.normal(0,10,(10,9))]\n",
    "        self.wins = 0\n",
    "        self.losses = 0\n",
    "        self.wrongs = 0\n",
    "        \n",
    "    def reset_scores(self):\n",
    "        self.score = 0\n",
    "        self.wins = 0\n",
    "        self.losses = 0\n",
    "        self.wrongs = 0\n",
    "        \n",
    "    def get_ratio_score(self):\n",
    "        return self.wins/(self.losses + self.wrongs*10 + 10e-5)\n",
    "        \n",
    "    def compute_next_move(self,board):\n",
    "        if(board.shape == (3,3)):\n",
    "            return self.compute_next_move(board_to_state(board))\n",
    "        \n",
    "        for i in range(len(self.w)):\n",
    "            board = board @ self.w[i]\n",
    "            if(i<len(self.w)-1):\n",
    "                board = np.tanh(board)\n",
    "            else:\n",
    "                return board.argmax()\n",
    "    \n",
    "    def mutate(self):\n",
    "        for i in range(len(self.w)):\n",
    "            mutate_mask = np.random.uniform(0,1,self.w[i].shape)>MUTATE_PROB\n",
    "            mutation = np.random.normal(0,1,self.w[i].shape)\n",
    "            mutation = np.ma.array(mutation, mask=mutate_mask).filled(0)\n",
    "            self.w[i]+=mutation\n",
    "        if(np.random.uniform(0,1)<ADD_LAYER_PROB):\n",
    "            self.w.append(np.random.normal(0,1,(9,9)))"
   ]
  },
  {
   "cell_type": "code",
   "execution_count": 6,
   "metadata": {},
   "outputs": [],
   "source": [
    "def play_game_2cpus(p1, p2):    \n",
    "    board = np.zeros((3,3))\n",
    "    \n",
    "    p=1\n",
    "    win = False\n",
    "    move = 1\n",
    "    while(move<=9 and not win):\n",
    "#         print(board)\n",
    "        if(p==1):\n",
    "#             print(1)\n",
    "            pos = p1.compute_next_move(board)\n",
    "        else:\n",
    "#             print(2)\n",
    "            pos = p2.compute_next_move(board * -1)\n",
    "\n",
    "#         print(p,pos)\n",
    "        if(not next_move(board,pos,p)):\n",
    "            if(p==1):\n",
    "                p1.score += reward['wrong_move']\n",
    "                p1.wrongs += 1\n",
    "            else:\n",
    "                p2.score += reward['wrong_move']\n",
    "                p2.wrongs += 1\n",
    "            break\n",
    "        else:\n",
    "            if(p==1):\n",
    "                p1.score += reward['next_move']\n",
    "            else:\n",
    "                p2.score += reward['next_move']\n",
    "            p*=-1\n",
    "            win = ttt.win_condition(board)\n",
    "            move+=1\n",
    "    \n",
    "    if(win==1):\n",
    "        p1.score += reward['win']\n",
    "        p1.wins += 1\n",
    "        p2.losses += 1\n",
    "        p2.score += reward['lose']\n",
    "    elif(win==2):\n",
    "        p2.score += reward['win']\n",
    "        p2.wins += 1\n",
    "        p1.losses += 1\n",
    "        p1.score += reward['lose']\n",
    "#     print(board)\n",
    "#     if(win==1):\n",
    "#         print(\"!!!!!!!!!!!!!!!! \" + p1 + \" wins !!!!!!!!!!!!!!!!\")\n",
    "#     else:\n",
    "#         print(\"!!!!!!!!!!!!!!!! \" + p2 + \" wins !!!!!!!!!!!!!!!!\")"
   ]
  },
  {
   "cell_type": "code",
   "execution_count": 7,
   "metadata": {},
   "outputs": [],
   "source": [
    "def genetic_algorithm(n_players=100, n_gen=100, n_cycle_per_gen=20, new=True):\n",
    "    if(n_players%2!=0):\n",
    "        raise Exception(\"n_players must be even\")\n",
    "    global players\n",
    "    global best_score\n",
    "    global avg_score\n",
    "    if(new):\n",
    "        players = [cpu_player() for i in range(n_players)]\n",
    "        best_score = []\n",
    "        avg_score = []\n",
    "    index_array = np.arange(n_players)\n",
    "\n",
    "    generations = tqdm(range(n_gen))\n",
    "    for gen in generations:\n",
    "        for player in players:\n",
    "            player.reset_scores()\n",
    "#         print(\"Generation\", gen, \" Started\")\n",
    "        \n",
    "        for cycle in range(n_cycle_per_gen):\n",
    "            games = []\n",
    "            np.random.shuffle(index_array)\n",
    "            for game in range(n_players//2):\n",
    "                games.append(threading.Thread(target=play_game_2cpus, \n",
    "                                        args = [players[index_array[2*game]],players[index_array[2*game+1]]]))\n",
    "            for game in games:\n",
    "                game.start()\n",
    "            for game in games:\n",
    "                game.join()\n",
    "        \n",
    "        players.sort(key=lambda x: x.score, reverse=True)\n",
    "        del players[n_players//2:]\n",
    "        for i in range(n_players//2):\n",
    "            players.append(deepcopy(players[i]))\n",
    "            players[n_players//2+i].mutate()\n",
    "        best_score.append(players[0].score)\n",
    "        avg_score.append(sum([player.score for player in players])/len(players))\n",
    "        generations.set_description(\"Best player: \"+ str(best_score[-1]) + \" Avg Score: \" + str(avg_score[-1]))"
   ]
  },
  {
   "cell_type": "code",
   "execution_count": null,
   "metadata": {},
   "outputs": [
    {
     "data": {
      "application/vnd.jupyter.widget-view+json": {
       "model_id": "993df83f001f4d9ea6d815de3b787bba",
       "version_major": 2,
       "version_minor": 0
      },
      "text/plain": [
       "HBox(children=(IntProgress(value=0, max=1000), HTML(value='')))"
      ]
     },
     "metadata": {},
     "output_type": "display_data"
    }
   ],
   "source": [
    "genetic_algorithm(n_players=500, n_gen=1000, n_cycle_per_gen=50)"
   ]
  },
  {
   "cell_type": "code",
   "execution_count": null,
   "metadata": {},
   "outputs": [],
   "source": [
    "# for player in players:\n",
    "#     print(player.score, player.wins, player.losses, player.wrongs)"
   ]
  },
  {
   "cell_type": "code",
   "execution_count": null,
   "metadata": {},
   "outputs": [],
   "source": [
    "from matplotlib import pyplot as plt\n",
    "\n",
    "\n",
    "plt.plot(best_score)\n",
    "plt.plot(avg_score)\n",
    "plt.show()"
   ]
  },
  {
   "cell_type": "code",
   "execution_count": null,
   "metadata": {},
   "outputs": [],
   "source": [
    "def play_game_vs_cpu(p1):    \n",
    "    board = np.zeros((3,3))\n",
    "    \n",
    "    p=-1\n",
    "    win = False\n",
    "    move = 1\n",
    "    while(move<=9 and not win):\n",
    "        print(board)\n",
    "        if(p==1):\n",
    "            pos = p1.compute_next_move(board)\n",
    "        else:\n",
    "            pos = int(input(\"Which position? \"))\n",
    "\n",
    "        if(not next_move(board,pos,p)):\n",
    "            print(\"WRONG MOVE\")\n",
    "            break\n",
    "        else:\n",
    "            p*=-1\n",
    "            win = ttt.win_condition(board)\n",
    "            move+=1\n",
    "\n",
    "    print(board)"
   ]
  },
  {
   "cell_type": "code",
   "execution_count": null,
   "metadata": {},
   "outputs": [],
   "source": [
    "play_game_vs_cpu(players[0])"
   ]
  },
  {
   "cell_type": "code",
   "execution_count": null,
   "metadata": {},
   "outputs": [],
   "source": [
    "for player in players:\n",
    "    print(len(player.w))"
   ]
  },
  {
   "cell_type": "code",
   "execution_count": null,
   "metadata": {},
   "outputs": [],
   "source": [
    "(players[1].w)[0]"
   ]
  },
  {
   "cell_type": "code",
   "execution_count": null,
   "metadata": {},
   "outputs": [],
   "source": [
    "np.concatenate((board.reshape(1,-1),(np.array(1)).reshape(1,1)), axis=1)"
   ]
  },
  {
   "cell_type": "code",
   "execution_count": null,
   "metadata": {},
   "outputs": [],
   "source": [
    "board.reshape(1,-1)"
   ]
  },
  {
   "cell_type": "code",
   "execution_count": null,
   "metadata": {},
   "outputs": [],
   "source": []
  }
 ],
 "metadata": {
  "kernelspec": {
   "display_name": "Python 3",
   "language": "python",
   "name": "python3"
  },
  "language_info": {
   "codemirror_mode": {
    "name": "ipython",
    "version": 3
   },
   "file_extension": ".py",
   "mimetype": "text/x-python",
   "name": "python",
   "nbconvert_exporter": "python",
   "pygments_lexer": "ipython3",
   "version": "3.7.3"
  }
 },
 "nbformat": 4,
 "nbformat_minor": 2
}
