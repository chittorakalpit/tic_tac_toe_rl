{
 "cells": [
  {
   "cell_type": "code",
   "execution_count": 1,
   "metadata": {},
   "outputs": [],
   "source": [
    "import numpy as np"
   ]
  },
  {
   "cell_type": "code",
   "execution_count": 3,
   "metadata": {},
   "outputs": [],
   "source": [
    "board = np.zeros((3,3))"
   ]
  },
  {
   "cell_type": "code",
   "execution_count": 42,
   "metadata": {},
   "outputs": [],
   "source": [
    "def next_move(board, r, c, p):\n",
    "    assert board.shape == (3,3)\n",
    "    assert r>=0 and r<=2 and c>=0 and c<=2\n",
    "    assert (np.logical_or(np.logical_or(board == 0, board == 1), board == -1)).all()\n",
    "    if(board[r,c]==0):\n",
    "        board[r,c]=p\n",
    "        return True\n",
    "    \n",
    "    return False\n",
    "\n",
    "def win_condition(board):\n",
    "    for i in range(3):\n",
    "        if(board[i,0]==board[i,1] and board[i,0] == board[i,2] and board[i,0] != 0):\n",
    "            return board[i,0]\n",
    "    for i in range(3):\n",
    "        if(board[0,i]==board[1,i] and board[0,i] == board[2,i] and board[0,i] != 0):\n",
    "            return board[0,i]\n",
    "    if(board[0,0]==board[1,1] and board[0,0] == board[2,2] and board[0,0] != 0):\n",
    "        return board[0,0]\n",
    "    if(board[0,2]==board[1,1] and board[0,2] == board[2,0] and board[2,0] != 0):\n",
    "        return board[2,0]\n",
    "    return False"
   ]
  },
  {
   "cell_type": "code",
   "execution_count": null,
   "metadata": {},
   "outputs": [],
   "source": [
    "def play_game():\n",
    "    print(\"Input player 1's name: \")\n",
    "    p1 = input()\n",
    "    print(\"Input player 2's name: \")\n",
    "    p2 = input()\n",
    "    if(p2==p1):\n",
    "        p1+=\" 1\"\n",
    "        p2+=\" 2\"\n",
    "        \n",
    "    board = np.zeros((3,3))\n",
    "    \n",
    "    p=1\n",
    "    win = False\n",
    "    while(not win):\n",
    "        print(board)\n",
    "        if(p==1):\n",
    "            print(\"\\n\\n------- \" + p1 + \"'s turn \" + \"-------\\n\\n\")\n",
    "        else:\n",
    "            print(\"\\n\\n------- \" + p2 + \"'s turn \" + \"-------\\n\\n\")\n",
    "        print(\"Input row: \")\n",
    "        r = int(input())\n",
    "        print(\"Input column: \")\n",
    "        c = int(input())\n",
    "        if(not next_move(board,r,c,p)):\n",
    "            print(\"-----!!!!! INVALID MOVE !!!!!-----\")\n",
    "        else:\n",
    "            p*=-1\n",
    "            win = win_condition(board)\n",
    "    print(board)\n",
    "    if(win==1):\n",
    "        print(\"!!!!!!!!!!!!!!!! \" + p1 + \" wins !!!!!!!!!!!!!!!!\")\n",
    "    else:\n",
    "        print(\"!!!!!!!!!!!!!!!! \" + p2 + \" wins !!!!!!!!!!!!!!!!\")"
   ]
  },
  {
   "cell_type": "code",
   "execution_count": null,
   "metadata": {},
   "outputs": [],
   "source": [
    "play_game()"
   ]
  },
  {
   "cell_type": "code",
   "execution_count": 53,
   "metadata": {},
   "outputs": [
    {
     "name": "stdout",
     "output_type": "stream",
     "text": [
      "2 3\n"
     ]
    },
    {
     "ename": "TypeError",
     "evalue": "must be str or None, not list",
     "output_type": "error",
     "traceback": [
      "\u001b[0;31m---------------------------------------------------------------------------\u001b[0m",
      "\u001b[0;31mTypeError\u001b[0m                                 Traceback (most recent call last)",
      "\u001b[0;32m<ipython-input-53-29f1271c7f8f>\u001b[0m in \u001b[0;36m<module>\u001b[0;34m\u001b[0m\n\u001b[0;32m----> 1\u001b[0;31m \u001b[0;34m[\u001b[0m\u001b[0mr\u001b[0m\u001b[0;34m,\u001b[0m\u001b[0mc\u001b[0m\u001b[0;34m]\u001b[0m \u001b[0;34m=\u001b[0m \u001b[0minput\u001b[0m\u001b[0;34m(\u001b[0m\u001b[0;34m)\u001b[0m\u001b[0;34m.\u001b[0m\u001b[0msplit\u001b[0m\u001b[0;34m(\u001b[0m\u001b[0;34m[\u001b[0m\u001b[0;34m\",\"\u001b[0m\u001b[0;34m,\u001b[0m \u001b[0;34m\" \"\u001b[0m\u001b[0;34m]\u001b[0m\u001b[0;34m)\u001b[0m\u001b[0;34m\u001b[0m\u001b[0;34m\u001b[0m\u001b[0m\n\u001b[0m\u001b[1;32m      2\u001b[0m \u001b[0mprint\u001b[0m\u001b[0;34m(\u001b[0m\u001b[0mr\u001b[0m\u001b[0;34m,\u001b[0m\u001b[0mc\u001b[0m\u001b[0;34m)\u001b[0m\u001b[0;34m\u001b[0m\u001b[0;34m\u001b[0m\u001b[0m\n",
      "\u001b[0;31mTypeError\u001b[0m: must be str or None, not list"
     ]
    }
   ],
   "source": []
  },
  {
   "cell_type": "code",
   "execution_count": null,
   "metadata": {},
   "outputs": [],
   "source": []
  }
 ],
 "metadata": {
  "kernelspec": {
   "display_name": "Python 3",
   "language": "python",
   "name": "python3"
  },
  "language_info": {
   "codemirror_mode": {
    "name": "ipython",
    "version": 3
   },
   "file_extension": ".py",
   "mimetype": "text/x-python",
   "name": "python",
   "nbconvert_exporter": "python",
   "pygments_lexer": "ipython3",
   "version": "3.7.3"
  }
 },
 "nbformat": 4,
 "nbformat_minor": 2
}
